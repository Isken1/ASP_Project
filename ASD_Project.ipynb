{
 "cells": [
  {
   "cell_type": "code",
   "execution_count": 1,
   "id": "a8c245c5-606c-4cf6-9608-96d65042c2ee",
   "metadata": {},
   "outputs": [
    {
     "name": "stdout",
     "output_type": "stream",
     "text": [
      "\u001b[36m\n",
      "Меню:\n",
      "1. Показать граф\n",
      "2. Добавить маршрут\n",
      "3. Добавить город\n",
      "4. Найти кратчайший путь\n",
      "5. Выйти\n"
     ]
    },
    {
     "name": "stdin",
     "output_type": "stream",
     "text": [
      "Введите номер действия:  1\n"
     ]
    },
    {
     "name": "stdout",
     "output_type": "stream",
     "text": [
      "\u001b[36m\n",
      "Текущие маршруты между городами:\n",
      "Бишкек -> Ош: 600 км\n",
      "Бишкек -> Кант: 20 км\n",
      "Ош -> Бишкек: 600 км\n",
      "Ош -> Нарын: 300 км\n",
      "Кант -> Бишкек: 20 км\n",
      "Нарын -> Ош: 300 км\n",
      "\u001b[36m\n",
      "Меню:\n",
      "1. Показать граф\n",
      "2. Добавить маршрут\n",
      "3. Добавить город\n",
      "4. Найти кратчайший путь\n",
      "5. Выйти\n"
     ]
    },
    {
     "name": "stdin",
     "output_type": "stream",
     "text": [
      "Введите номер действия:  2\n",
      "Введите название первого города:  dsf\n",
      "Введите название второго города:  wet\n",
      "Введите растояние между городами:  12\n",
      "Сделать путь двуcторонним? (да/нет):  да\n"
     ]
    },
    {
     "name": "stdout",
     "output_type": "stream",
     "text": [
      "\u001b[32mПуть между dsf и wet длиной 12 км добавлен.\n",
      "\u001b[36m\n",
      "Меню:\n",
      "1. Показать граф\n",
      "2. Добавить маршрут\n",
      "3. Добавить город\n",
      "4. Найти кратчайший путь\n",
      "5. Выйти\n"
     ]
    },
    {
     "name": "stdin",
     "output_type": "stream",
     "text": [
      "Введите номер действия:  1\n"
     ]
    },
    {
     "name": "stdout",
     "output_type": "stream",
     "text": [
      "\u001b[36m\n",
      "Текущие маршруты между городами:\n",
      "Бишкек -> Ош: 600 км\n",
      "Бишкек -> Кант: 20 км\n",
      "Ош -> Бишкек: 600 км\n",
      "Ош -> Нарын: 300 км\n",
      "Кант -> Бишкек: 20 км\n",
      "Нарын -> Ош: 300 км\n",
      "dsf -> wet: 12 км\n",
      "wet -> dsf: 12 км\n",
      "\u001b[36m\n",
      "Меню:\n",
      "1. Показать граф\n",
      "2. Добавить маршрут\n",
      "3. Добавить город\n",
      "4. Найти кратчайший путь\n",
      "5. Выйти\n"
     ]
    },
    {
     "name": "stdin",
     "output_type": "stream",
     "text": [
      "Введите номер действия:  4\n",
      "Введите город отправления:  wet\n",
      "Введите город назначения:  dfs\n"
     ]
    },
    {
     "name": "stdout",
     "output_type": "stream",
     "text": [
      "\u001b[31mОдин или оба города не найдены в графе\n",
      "\u001b[36m\n",
      "Меню:\n",
      "1. Показать граф\n",
      "2. Добавить маршрут\n",
      "3. Добавить город\n",
      "4. Найти кратчайший путь\n",
      "5. Выйти\n"
     ]
    },
    {
     "name": "stdin",
     "output_type": "stream",
     "text": [
      "Введите номер действия:  4\n",
      "Введите город отправления:  wet\n",
      "Введите город назначения:  dsf\n"
     ]
    },
    {
     "name": "stdout",
     "output_type": "stream",
     "text": [
      "\u001b[32mКратчайший путь из wet в dsf: wet -> dsf (12 км)\n",
      "\u001b[36m\n",
      "Меню:\n",
      "1. Показать граф\n",
      "2. Добавить маршрут\n",
      "3. Добавить город\n",
      "4. Найти кратчайший путь\n",
      "5. Выйти\n"
     ]
    },
    {
     "name": "stdin",
     "output_type": "stream",
     "text": [
      "Введите номер действия:  3\n",
      "Сколько городов вы хотите добавить? 1\n",
      "Введите название города:  sfd\n",
      "Сколько маршрутов для города sfd?  1\n",
      "Введите связанный город:  trert\n",
      "Введите расстояние до города trert:  3000\n"
     ]
    },
    {
     "name": "stdout",
     "output_type": "stream",
     "text": [
      "\u001b[36m\n",
      "Меню:\n",
      "1. Показать граф\n",
      "2. Добавить маршрут\n",
      "3. Добавить город\n",
      "4. Найти кратчайший путь\n",
      "5. Выйти\n"
     ]
    },
    {
     "name": "stdin",
     "output_type": "stream",
     "text": [
      "Введите номер действия:  1\n"
     ]
    },
    {
     "name": "stdout",
     "output_type": "stream",
     "text": [
      "\u001b[36m\n",
      "Текущие маршруты между городами:\n",
      "Бишкек -> Ош: 600 км\n",
      "Бишкек -> Кант: 20 км\n",
      "Ош -> Бишкек: 600 км\n",
      "Ош -> Нарын: 300 км\n",
      "Кант -> Бишкек: 20 км\n",
      "Нарын -> Ош: 300 км\n",
      "dsf -> wet: 12 км\n",
      "wet -> dsf: 12 км\n",
      "sfd -> trert: 3000 км\n",
      "trert -> sfd: 3000 км\n",
      "\u001b[36m\n",
      "Меню:\n",
      "1. Показать граф\n",
      "2. Добавить маршрут\n",
      "3. Добавить город\n",
      "4. Найти кратчайший путь\n",
      "5. Выйти\n"
     ]
    },
    {
     "name": "stdin",
     "output_type": "stream",
     "text": [
      "Введите номер действия:  4\n",
      "Введите город отправления:  trert\n",
      "Введите город назначения:  sfd\n"
     ]
    },
    {
     "name": "stdout",
     "output_type": "stream",
     "text": [
      "\u001b[32mКратчайший путь из trert в sfd: trert -> sfd (3000 км)\n",
      "\u001b[36m\n",
      "Меню:\n",
      "1. Показать граф\n",
      "2. Добавить маршрут\n",
      "3. Добавить город\n",
      "4. Найти кратчайший путь\n",
      "5. Выйти\n"
     ]
    },
    {
     "name": "stdin",
     "output_type": "stream",
     "text": [
      "Введите номер действия:  1\n"
     ]
    },
    {
     "name": "stdout",
     "output_type": "stream",
     "text": [
      "\u001b[36m\n",
      "Текущие маршруты между городами:\n",
      "Бишкек -> Ош: 600 км\n",
      "Бишкек -> Кант: 20 км\n",
      "Ош -> Бишкек: 600 км\n",
      "Ош -> Нарын: 300 км\n",
      "Кант -> Бишкек: 20 км\n",
      "Нарын -> Ош: 300 км\n",
      "dsf -> wet: 12 км\n",
      "wet -> dsf: 12 км\n",
      "sfd -> trert: 3000 км\n",
      "trert -> sfd: 3000 км\n",
      "\u001b[36m\n",
      "Меню:\n",
      "1. Показать граф\n",
      "2. Добавить маршрут\n",
      "3. Добавить город\n",
      "4. Найти кратчайший путь\n",
      "5. Выйти\n"
     ]
    },
    {
     "name": "stdin",
     "output_type": "stream",
     "text": [
      "Введите номер действия:  Ош\n"
     ]
    },
    {
     "name": "stdout",
     "output_type": "stream",
     "text": [
      "\u001b[31mНекорректный выбор. Попробуйте снова\n",
      "\u001b[36m\n",
      "Меню:\n",
      "1. Показать граф\n",
      "2. Добавить маршрут\n",
      "3. Добавить город\n",
      "4. Найти кратчайший путь\n",
      "5. Выйти\n"
     ]
    },
    {
     "name": "stdin",
     "output_type": "stream",
     "text": [
      "Введите номер действия:  4\n",
      "Введите город отправления:  Ош\n",
      "Введите город назначения:  Нарын\n"
     ]
    },
    {
     "name": "stdout",
     "output_type": "stream",
     "text": [
      "\u001b[32mКратчайший путь из Ош в Нарын: Ош -> Нарын (300 км)\n",
      "\u001b[36m\n",
      "Меню:\n",
      "1. Показать граф\n",
      "2. Добавить маршрут\n",
      "3. Добавить город\n",
      "4. Найти кратчайший путь\n",
      "5. Выйти\n"
     ]
    },
    {
     "name": "stdin",
     "output_type": "stream",
     "text": [
      "Введите номер действия:  5\n"
     ]
    },
    {
     "name": "stdout",
     "output_type": "stream",
     "text": [
      "\u001b[33mВыход из программы\n"
     ]
    }
   ],
   "source": [
    "from colorama import Fore\n",
    "import heapq\n",
    "\n",
    "def deikstra(graph, start, dist={}, path={}):\n",
    "    for city in graph:\n",
    "        dist[city] = float('inf')\n",
    "        path[city] = []\n",
    "    dist[start] = 0\n",
    "    order = [(0, start)]\n",
    "\n",
    "    while order:\n",
    "        distance, city = heapq.heappop(order)\n",
    "\n",
    "        if distance > dist[city]:\n",
    "            continue\n",
    "\n",
    "        for road, travel in graph[city]:\n",
    "            new_distance = distance + travel\n",
    "            if new_distance < dist[road]:\n",
    "                dist[road] = new_distance\n",
    "                path[road] = path[city] + [city]\n",
    "                heapq.heappush(order, (new_distance, road))\n",
    "    return dist, path\n",
    "def add_route(graph):\n",
    "    start = input(\"Введите название первого города: \")\n",
    "    end = input(\"Введите название второго города: \")\n",
    "\n",
    "    if start not in graph:\n",
    "        graph[start] = []\n",
    "    if end not in graph:\n",
    "        graph[end] = []\n",
    "\n",
    "    try:\n",
    "        distance = int(input(\"Введите растояние между городами: \"))\n",
    "    except ValueError:\n",
    "        print(Fore.RED + \"Некорректное растояние. Введите число\")\n",
    "        return\n",
    "\n",
    "    bidirectional = input(\"Сделать путь двуcторонним? (да/нет): \").strip().lower()\n",
    "    graph[start].append((end, distance))\n",
    "\n",
    "    if bidirectional == \"да\":\n",
    "        graph[end].append((start, distance))\n",
    "\n",
    "    print(Fore.GREEN + f\"Путь между {start} и {end} длиной {distance} км добавлен.\")\n",
    "\n",
    "def display_graph(graph):\n",
    "    print(Fore.CYAN + \"\\nТекущие маршруты между городами:\")\n",
    "    for city, connections in graph.items():\n",
    "        for neighbor, distance in connections:\n",
    "            print(f\"{city} -> {neighbor}: {distance} км\")\n",
    "\n",
    "def add_new_city(graph):\n",
    "    try:\n",
    "        cities = int(input(\"Сколько городов вы хотите добавить?\"))\n",
    "    except ValueError:\n",
    "        print(Fore.RED + \"Введите число\")\n",
    "        return\n",
    "\n",
    "    for i in range(cities):\n",
    "        city = input(\"Введите название города: \")\n",
    "        if city in graph:\n",
    "            print(Fore.YELLOW + f\"Город {city} уже существует\")\n",
    "            continue\n",
    "\n",
    "        graph[city] = []\n",
    "        try:\n",
    "            routes = int(input(f\"Сколько маршрутов для города {city}? \"))\n",
    "        except ValueError:\n",
    "            print(Fore.RED + \"Введите число.\")\n",
    "            continue\n",
    "\n",
    "        for i in range(routes):\n",
    "            conected_city = input(\"Введите связанный город: \")\n",
    "            try:\n",
    "                distance = int(input(f\"Введите расстояние до города {conected_city}: \"))\n",
    "            except ValueError:\n",
    "                print(Fore.RED + \"Некорректное расстояние. Введите число\")\n",
    "                continue\n",
    "\n",
    "            graph[city].append((conected_city, distance))\n",
    "            if conected_city not in graph:\n",
    "                graph[conected_city] = []\n",
    "            graph[conected_city].append((city, distance))\n",
    "\n",
    "def find_shortest_path(graph):\n",
    "    start = input(\"Введите город отправления: \")\n",
    "    end = input(\"Введите город назначения: \")\n",
    "\n",
    "    if start not in graph or end not in graph:\n",
    "        print(Fore.RED + \"Один или оба города не найдены в графе\")\n",
    "        return\n",
    "\n",
    "    dist, path = deikstra(graph, start)\n",
    "\n",
    "    if dist[end] == float('inf'):\n",
    "        print(Fore.RED + f\"Нет пути из {start} в {end}\")\n",
    "    else:\n",
    "        route = path[end] + [end]\n",
    "        route_str = ''\n",
    "        for city in route:\n",
    "            route_str += city\n",
    "            if city != end:\n",
    "                route_str += ' -> '\n",
    "        print(Fore.GREEN + f\"Кратчайший путь из {start} в {end}: {route_str} ({dist[end]} км)\")\n",
    "\n",
    "graph = {\n",
    "    \"Бишкек\": [(\"Ош\", 600), (\"Кант\", 20)],\n",
    "    \"Ош\": [(\"Бишкек\", 600), (\"Нарын\", 300)],\n",
    "    \"Кант\": [(\"Бишкек\", 20)],\n",
    "    \"Нарын\": [(\"Ош\", 300)]\n",
    "}\n",
    "\n",
    "while True:\n",
    "    print(Fore.CYAN + \"\\nМеню:\")\n",
    "    print(\"1. Показать граф\")\n",
    "    print(\"2. Добавить маршрут\")\n",
    "    print(\"3. Добавить город\")\n",
    "    print(\"4. Найти кратчайший путь\")\n",
    "    print(\"5. Выйти\")\n",
    "\n",
    "    choice = input(\"Введите номер действия: \")\n",
    "\n",
    "    if choice == \"1\":\n",
    "        display_graph(graph)\n",
    "    elif choice == \"2\":\n",
    "        add_route(graph)\n",
    "    elif choice == \"3\":\n",
    "        add_new_city(graph)\n",
    "    elif choice == \"4\":\n",
    "        find_shortest_path(graph)\n",
    "    elif choice == \"5\":\n",
    "        print(Fore.YELLOW + \"Выход из программы\")\n",
    "        break\n",
    "    else:\n",
    "        print(Fore.RED + \"Некорректный выбор. Попробуйте снова\")\n"
   ]
  },
  {
   "cell_type": "code",
   "execution_count": null,
   "id": "a1f015ff-a30e-440b-9b9e-cd62da0ca736",
   "metadata": {},
   "outputs": [],
   "source": []
  },
  {
   "cell_type": "code",
   "execution_count": null,
   "id": "c5cdec53-92a9-4797-b20b-ad9051af56d9",
   "metadata": {},
   "outputs": [],
   "source": []
  }
 ],
 "metadata": {
  "kernelspec": {
   "display_name": "Python 3 (ipykernel)",
   "language": "python",
   "name": "python3"
  },
  "language_info": {
   "codemirror_mode": {
    "name": "ipython",
    "version": 3
   },
   "file_extension": ".py",
   "mimetype": "text/x-python",
   "name": "python",
   "nbconvert_exporter": "python",
   "pygments_lexer": "ipython3",
   "version": "3.12.4"
  }
 },
 "nbformat": 4,
 "nbformat_minor": 5
}
